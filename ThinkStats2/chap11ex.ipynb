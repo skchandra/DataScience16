{
 "cells": [
  {
   "cell_type": "markdown",
   "metadata": {},
   "source": [
    "Shivali Chandra <br>\n",
    "Exercise from Think Stats, 2nd Edition (thinkstats2.com)<br>\n",
    "Allen Downey"
   ]
  },
  {
   "cell_type": "code",
   "execution_count": 35,
   "metadata": {
    "collapsed": false
   },
   "outputs": [
    {
     "data": {
      "text/html": [
       "<div>\n",
       "<table border=\"1\" class=\"dataframe\">\n",
       "  <thead>\n",
       "    <tr style=\"text-align: right;\">\n",
       "      <th></th>\n",
       "      <th>caseid</th>\n",
       "      <th>pregordr</th>\n",
       "      <th>howpreg_n</th>\n",
       "      <th>howpreg_p</th>\n",
       "      <th>moscurrp</th>\n",
       "      <th>nowprgdk</th>\n",
       "      <th>pregend1</th>\n",
       "      <th>pregend2</th>\n",
       "      <th>nbrnaliv</th>\n",
       "      <th>multbrth</th>\n",
       "      <th>...</th>\n",
       "      <th>laborfor_i</th>\n",
       "      <th>religion_i</th>\n",
       "      <th>metro_i</th>\n",
       "      <th>basewgt</th>\n",
       "      <th>adj_mod_basewgt</th>\n",
       "      <th>finalwgt</th>\n",
       "      <th>secu_p</th>\n",
       "      <th>sest</th>\n",
       "      <th>cmintvw</th>\n",
       "      <th>totalwgt_lb</th>\n",
       "    </tr>\n",
       "  </thead>\n",
       "  <tbody>\n",
       "    <tr>\n",
       "      <th>count</th>\n",
       "      <td>13593.000000</td>\n",
       "      <td>13593.000000</td>\n",
       "      <td>352.000000</td>\n",
       "      <td>349.00000</td>\n",
       "      <td>352.000000</td>\n",
       "      <td>3.000000</td>\n",
       "      <td>13241.000000</td>\n",
       "      <td>18.000000</td>\n",
       "      <td>9144.000000</td>\n",
       "      <td>163.000000</td>\n",
       "      <td>...</td>\n",
       "      <td>13593.000000</td>\n",
       "      <td>13593.000000</td>\n",
       "      <td>13593</td>\n",
       "      <td>13593.000000</td>\n",
       "      <td>13593.000000</td>\n",
       "      <td>13593.000000</td>\n",
       "      <td>13593.000000</td>\n",
       "      <td>13593.000000</td>\n",
       "      <td>0</td>\n",
       "      <td>9038.000000</td>\n",
       "    </tr>\n",
       "    <tr>\n",
       "      <th>mean</th>\n",
       "      <td>6216.526595</td>\n",
       "      <td>2.349150</td>\n",
       "      <td>15.144886</td>\n",
       "      <td>1.34384</td>\n",
       "      <td>4.647727</td>\n",
       "      <td>3.666667</td>\n",
       "      <td>4.650177</td>\n",
       "      <td>4.055556</td>\n",
       "      <td>1.022419</td>\n",
       "      <td>1.834356</td>\n",
       "      <td>...</td>\n",
       "      <td>0.000809</td>\n",
       "      <td>0.003016</td>\n",
       "      <td>0</td>\n",
       "      <td>4216.271164</td>\n",
       "      <td>5383.982581</td>\n",
       "      <td>8196.422280</td>\n",
       "      <td>1.487310</td>\n",
       "      <td>44.083352</td>\n",
       "      <td>NaN</td>\n",
       "      <td>7.265628</td>\n",
       "    </tr>\n",
       "    <tr>\n",
       "      <th>std</th>\n",
       "      <td>3645.417341</td>\n",
       "      <td>1.577807</td>\n",
       "      <td>13.922211</td>\n",
       "      <td>0.47567</td>\n",
       "      <td>2.527523</td>\n",
       "      <td>4.618802</td>\n",
       "      <td>1.849790</td>\n",
       "      <td>1.696787</td>\n",
       "      <td>0.190098</td>\n",
       "      <td>1.630208</td>\n",
       "      <td>...</td>\n",
       "      <td>0.028437</td>\n",
       "      <td>0.058727</td>\n",
       "      <td>0</td>\n",
       "      <td>3982.680473</td>\n",
       "      <td>5640.499431</td>\n",
       "      <td>9325.918114</td>\n",
       "      <td>0.499857</td>\n",
       "      <td>24.110403</td>\n",
       "      <td>NaN</td>\n",
       "      <td>1.408293</td>\n",
       "    </tr>\n",
       "    <tr>\n",
       "      <th>min</th>\n",
       "      <td>1.000000</td>\n",
       "      <td>1.000000</td>\n",
       "      <td>0.000000</td>\n",
       "      <td>1.00000</td>\n",
       "      <td>0.000000</td>\n",
       "      <td>1.000000</td>\n",
       "      <td>1.000000</td>\n",
       "      <td>1.000000</td>\n",
       "      <td>1.000000</td>\n",
       "      <td>1.000000</td>\n",
       "      <td>...</td>\n",
       "      <td>0.000000</td>\n",
       "      <td>0.000000</td>\n",
       "      <td>0</td>\n",
       "      <td>64.577101</td>\n",
       "      <td>71.201194</td>\n",
       "      <td>118.656790</td>\n",
       "      <td>1.000000</td>\n",
       "      <td>1.000000</td>\n",
       "      <td>NaN</td>\n",
       "      <td>0.125000</td>\n",
       "    </tr>\n",
       "    <tr>\n",
       "      <th>25%</th>\n",
       "      <td>3022.000000</td>\n",
       "      <td>1.000000</td>\n",
       "      <td>5.000000</td>\n",
       "      <td>1.00000</td>\n",
       "      <td>2.000000</td>\n",
       "      <td>1.000000</td>\n",
       "      <td>3.000000</td>\n",
       "      <td>3.000000</td>\n",
       "      <td>1.000000</td>\n",
       "      <td>1.000000</td>\n",
       "      <td>...</td>\n",
       "      <td>0.000000</td>\n",
       "      <td>0.000000</td>\n",
       "      <td>0</td>\n",
       "      <td>2335.445237</td>\n",
       "      <td>2798.048902</td>\n",
       "      <td>3841.375308</td>\n",
       "      <td>1.000000</td>\n",
       "      <td>25.000000</td>\n",
       "      <td>NaN</td>\n",
       "      <td>6.500000</td>\n",
       "    </tr>\n",
       "    <tr>\n",
       "      <th>50%</th>\n",
       "      <td>6161.000000</td>\n",
       "      <td>2.000000</td>\n",
       "      <td>9.000000</td>\n",
       "      <td>1.00000</td>\n",
       "      <td>5.000000</td>\n",
       "      <td>1.000000</td>\n",
       "      <td>6.000000</td>\n",
       "      <td>4.000000</td>\n",
       "      <td>1.000000</td>\n",
       "      <td>1.000000</td>\n",
       "      <td>...</td>\n",
       "      <td>0.000000</td>\n",
       "      <td>0.000000</td>\n",
       "      <td>0</td>\n",
       "      <td>3409.648504</td>\n",
       "      <td>4127.220642</td>\n",
       "      <td>6256.592133</td>\n",
       "      <td>1.000000</td>\n",
       "      <td>45.000000</td>\n",
       "      <td>NaN</td>\n",
       "      <td>7.375000</td>\n",
       "    </tr>\n",
       "    <tr>\n",
       "      <th>75%</th>\n",
       "      <td>9423.000000</td>\n",
       "      <td>3.000000</td>\n",
       "      <td>23.000000</td>\n",
       "      <td>2.00000</td>\n",
       "      <td>7.000000</td>\n",
       "      <td>5.000000</td>\n",
       "      <td>6.000000</td>\n",
       "      <td>6.000000</td>\n",
       "      <td>1.000000</td>\n",
       "      <td>1.000000</td>\n",
       "      <td>...</td>\n",
       "      <td>0.000000</td>\n",
       "      <td>0.000000</td>\n",
       "      <td>0</td>\n",
       "      <td>4869.941451</td>\n",
       "      <td>5795.692880</td>\n",
       "      <td>9432.360931</td>\n",
       "      <td>2.000000</td>\n",
       "      <td>65.000000</td>\n",
       "      <td>NaN</td>\n",
       "      <td>8.125000</td>\n",
       "    </tr>\n",
       "    <tr>\n",
       "      <th>max</th>\n",
       "      <td>12571.000000</td>\n",
       "      <td>19.000000</td>\n",
       "      <td>99.000000</td>\n",
       "      <td>2.00000</td>\n",
       "      <td>9.000000</td>\n",
       "      <td>9.000000</td>\n",
       "      <td>9.000000</td>\n",
       "      <td>6.000000</td>\n",
       "      <td>5.000000</td>\n",
       "      <td>5.000000</td>\n",
       "      <td>...</td>\n",
       "      <td>1.000000</td>\n",
       "      <td>2.000000</td>\n",
       "      <td>0</td>\n",
       "      <td>99707.832014</td>\n",
       "      <td>157143.686687</td>\n",
       "      <td>261879.953864</td>\n",
       "      <td>2.000000</td>\n",
       "      <td>84.000000</td>\n",
       "      <td>NaN</td>\n",
       "      <td>15.437500</td>\n",
       "    </tr>\n",
       "  </tbody>\n",
       "</table>\n",
       "<p>8 rows × 244 columns</p>\n",
       "</div>"
      ],
      "text/plain": [
       "             caseid      pregordr   howpreg_n  howpreg_p    moscurrp  \\\n",
       "count  13593.000000  13593.000000  352.000000  349.00000  352.000000   \n",
       "mean    6216.526595      2.349150   15.144886    1.34384    4.647727   \n",
       "std     3645.417341      1.577807   13.922211    0.47567    2.527523   \n",
       "min        1.000000      1.000000    0.000000    1.00000    0.000000   \n",
       "25%     3022.000000      1.000000    5.000000    1.00000    2.000000   \n",
       "50%     6161.000000      2.000000    9.000000    1.00000    5.000000   \n",
       "75%     9423.000000      3.000000   23.000000    2.00000    7.000000   \n",
       "max    12571.000000     19.000000   99.000000    2.00000    9.000000   \n",
       "\n",
       "       nowprgdk      pregend1   pregend2     nbrnaliv    multbrth  \\\n",
       "count  3.000000  13241.000000  18.000000  9144.000000  163.000000   \n",
       "mean   3.666667      4.650177   4.055556     1.022419    1.834356   \n",
       "std    4.618802      1.849790   1.696787     0.190098    1.630208   \n",
       "min    1.000000      1.000000   1.000000     1.000000    1.000000   \n",
       "25%    1.000000      3.000000   3.000000     1.000000    1.000000   \n",
       "50%    1.000000      6.000000   4.000000     1.000000    1.000000   \n",
       "75%    5.000000      6.000000   6.000000     1.000000    1.000000   \n",
       "max    9.000000      9.000000   6.000000     5.000000    5.000000   \n",
       "\n",
       "          ...         laborfor_i    religion_i  metro_i       basewgt  \\\n",
       "count     ...       13593.000000  13593.000000    13593  13593.000000   \n",
       "mean      ...           0.000809      0.003016        0   4216.271164   \n",
       "std       ...           0.028437      0.058727        0   3982.680473   \n",
       "min       ...           0.000000      0.000000        0     64.577101   \n",
       "25%       ...           0.000000      0.000000        0   2335.445237   \n",
       "50%       ...           0.000000      0.000000        0   3409.648504   \n",
       "75%       ...           0.000000      0.000000        0   4869.941451   \n",
       "max       ...           1.000000      2.000000        0  99707.832014   \n",
       "\n",
       "       adj_mod_basewgt       finalwgt        secu_p          sest  cmintvw  \\\n",
       "count     13593.000000   13593.000000  13593.000000  13593.000000        0   \n",
       "mean       5383.982581    8196.422280      1.487310     44.083352      NaN   \n",
       "std        5640.499431    9325.918114      0.499857     24.110403      NaN   \n",
       "min          71.201194     118.656790      1.000000      1.000000      NaN   \n",
       "25%        2798.048902    3841.375308      1.000000     25.000000      NaN   \n",
       "50%        4127.220642    6256.592133      1.000000     45.000000      NaN   \n",
       "75%        5795.692880    9432.360931      2.000000     65.000000      NaN   \n",
       "max      157143.686687  261879.953864      2.000000     84.000000      NaN   \n",
       "\n",
       "       totalwgt_lb  \n",
       "count  9038.000000  \n",
       "mean      7.265628  \n",
       "std       1.408293  \n",
       "min       0.125000  \n",
       "25%       6.500000  \n",
       "50%       7.375000  \n",
       "75%       8.125000  \n",
       "max      15.437500  \n",
       "\n",
       "[8 rows x 244 columns]"
      ]
     },
     "execution_count": 35,
     "metadata": {},
     "output_type": "execute_result"
    }
   ],
   "source": [
    "%matplotlib inline\n",
    "import nsfg\n",
    "import thinkstats2\n",
    "import statsmodels.formula.api as smf\n",
    "import chap01soln\n",
    "import numpy as np\n",
    "\n",
    "df = nsfg.ReadFemPreg()\n",
    "df.describe()"
   ]
  },
  {
   "cell_type": "markdown",
   "metadata": {},
   "source": [
    "Suppose one of your co-workers is expecting a baby and you are participating in an office pool to predict the date of birth. Assuming that bets are placed during the 30th week of pregnancy, what variables could you use to make the best prediction? You should limit yourself to variables that are known before the birth, and likely to be available to the people in the pool. "
   ]
  },
  {
   "cell_type": "code",
   "execution_count": 36,
   "metadata": {
    "collapsed": false
   },
   "outputs": [],
   "source": [
    "live = df[df.outcome == 1]\n",
    "live = live[live.prglngth > 30]\n",
    "\n",
    "resp = chap01soln.ReadFemResp()\n",
    "resp.index = resp.caseid\n",
    "join = live.join(resp, on='caseid', rsuffix='_r')"
   ]
  },
  {
   "cell_type": "code",
   "execution_count": 37,
   "metadata": {
    "collapsed": false
   },
   "outputs": [],
   "source": [
    "t = []\n",
    "for name in join.columns:\n",
    "    try:\n",
    "        if join[name].var() < 1e-7:\n",
    "            continue\n",
    "        formula = 'prglngth ~ agecon + ' + str(name)\n",
    "        model = smf.ols(formula, data=join)\n",
    "        if model.nobs < len(join)/2:\n",
    "            continue\n",
    "        results = model.fit()\n",
    "    except (ValueError, TypeError):\n",
    "        continue\n",
    "    t.append((results.rsquared, name))"
   ]
  },
  {
   "cell_type": "code",
   "execution_count": 38,
   "metadata": {
    "collapsed": false
   },
   "outputs": [
    {
     "name": "stdout",
     "output_type": "stream",
     "text": [
      "(u'prglngth', 1.0)\n",
      "(u'wksgest', 0.80647560229554416)\n",
      "(u'agepreg', 0.77722780709056005)\n",
      "('totalwgt_lb', 0.12589504948051811)\n",
      "(u'birthwgt_lb', 0.12104803951300569)\n",
      "(u'lbw1', 0.10399010733882053)\n",
      "(u'mosgest', 0.095653948252776844)\n",
      "(u'prglngth_i', 0.022702898461402943)\n",
      "(u'canhaver', 0.0060528525930908517)\n",
      "(u'datcon01_i', 0.006021881275759422)\n"
     ]
    }
   ],
   "source": [
    "t.sort(reverse=True)\n",
    "for mse, name in t[:10]:\n",
    "    print(name, mse)"
   ]
  },
  {
   "cell_type": "markdown",
   "metadata": {},
   "source": [
    "The variables above are the ones that I would look at first. In particular, 'wksgest', 'agepreg', and 'prglngth_i', if it possible to get that information. If not, then I would increase the number of variables: "
   ]
  },
  {
   "cell_type": "code",
   "execution_count": 39,
   "metadata": {
    "collapsed": false
   },
   "outputs": [
    {
     "name": "stdout",
     "output_type": "stream",
     "text": [
      "(u'prglngth', 1.0)\n",
      "(u'wksgest', 0.80647560229554416)\n",
      "(u'agepreg', 0.77722780709056005)\n",
      "('totalwgt_lb', 0.12589504948051811)\n",
      "(u'birthwgt_lb', 0.12104803951300569)\n",
      "(u'lbw1', 0.10399010733882053)\n",
      "(u'mosgest', 0.095653948252776844)\n",
      "(u'prglngth_i', 0.022702898461402943)\n",
      "(u'canhaver', 0.0060528525930908517)\n",
      "(u'datcon01_i', 0.006021881275759422)\n",
      "(u'con1mar1_i', 0.0057470796692380421)\n",
      "(u'nbrnaliv', 0.0046402822824620493)\n",
      "(u'mar1con1_i', 0.0032946548980058443)\n",
      "(u'anynurse', 0.0032494403967081587)\n",
      "(u'bfeedwks', 0.0027926146173661293)\n",
      "(u'agebaby1', 0.0027862747948664834)\n",
      "(u'rmarout11_i', 0.0023613798588607571)\n",
      "(u'marout11_i', 0.0023613798588607571)\n",
      "(u'marcon11_i', 0.0023613798588607571)\n",
      "(u'paydu', 0.0023452835507742353)\n",
      "(u'pregend1', 0.0022912806602890523)\n",
      "(u'datend02_i', 0.0021324893643125398)\n",
      "(u'datcon02_i', 0.0021324893643125398)\n",
      "(u'cmlastlb_r', 0.0021148239919197565)\n",
      "(u'cmlastlb', 0.0021148239919197565)\n",
      "(u'agecon02_i', 0.0021129060195237415)\n",
      "(u'ageprg02_i', 0.0020748312204004193)\n",
      "(u'fmarcon5_i', 0.0020360291831965638)\n",
      "(u'wantbold', 0.001926920019503453)\n",
      "(u'marcon03_i', 0.0019223219518741397)\n"
     ]
    }
   ],
   "source": [
    "for mse, name in t[:30]:\n",
    "    print(name, mse)"
   ]
  },
  {
   "cell_type": "markdown",
   "metadata": {},
   "source": [
    "If the top few variables are not available, then I would refer to this list. "
   ]
  },
  {
   "cell_type": "markdown",
   "metadata": {},
   "source": [
    "## Clarifying Questions\n",
    "\n",
    "Use this space to ask questions regarding the content covered in the reading. These questions should be restricted to helping you better understand the material. For questions that push beyond what is in the reading, use the next answer field. If you don't have a fully formed question, but are generally having a difficult time with a topic, you can indicate that here as well."
   ]
  },
  {
   "cell_type": "markdown",
   "metadata": {},
   "source": [
    "I don't entirely understand the code examples in the chapter (that I used to solve this exercise) in the sense that I wouldn't know when to use it, or how/why these particular things are done. "
   ]
  },
  {
   "cell_type": "markdown",
   "metadata": {},
   "source": [
    "## Enrichment Questions\n",
    "\n",
    "Use this space to ask any questions that go beyond (but are related to) the material presented in this reading. Perhaps there is a particular topic you'd like to see covered in more depth. Perhaps you'd like to know how to use a library in a way that wasn't show in the reading. One way to think about this is what additional topics would you want covered in the next class (or addressed in a followup e-mail to the class). I'm a little fuzzy on what stuff will likely go here, so we'll see how things evolve."
   ]
  },
  {
   "cell_type": "markdown",
   "metadata": {},
   "source": [
    "None"
   ]
  },
  {
   "cell_type": "markdown",
   "metadata": {},
   "source": [
    "## Additional Resources / Explorations\n",
    "\n",
    "If you found any useful resources, or tried some useful exercises that you'd like to report please do so here. Let us know what you did, what you learned, and how others can replicate it."
   ]
  },
  {
   "cell_type": "markdown",
   "metadata": {},
   "source": [
    "None"
   ]
  },
  {
   "cell_type": "code",
   "execution_count": null,
   "metadata": {
    "collapsed": true
   },
   "outputs": [],
   "source": []
  }
 ],
 "metadata": {
  "kernelspec": {
   "display_name": "Python 2",
   "language": "python",
   "name": "python2"
  },
  "language_info": {
   "codemirror_mode": {
    "name": "ipython",
    "version": 2
   },
   "file_extension": ".py",
   "mimetype": "text/x-python",
   "name": "python",
   "nbconvert_exporter": "python",
   "pygments_lexer": "ipython2",
   "version": "2.7.11"
  }
 },
 "nbformat": 4,
 "nbformat_minor": 0
}
